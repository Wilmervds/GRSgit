{
 "cells": [
  {
   "cell_type": "code",
   "execution_count": null,
   "metadata": {
    "collapsed": true
   },
   "outputs": [],
   "source": [
    "## Name: Wilmer van der Spek\n",
    "## Date: 23/01/2017\n",
    "## This code is intended for the QGIS Python Console\n",
    "## Make sure packages osgeo, os and folium are installed which can be done in the command line using pip install\n",
    "## Set working directory to any empty folder\n",
    "## After the code has run go to Layer -> Save As... -> Format = KML etc\n",
    "\n",
    "from osgeo import ogr,osr\n",
    "import os\n",
    "driverName = \"ESRI Shapefile\"\n",
    "drv = ogr.GetDriverByName( driverName )\n",
    "\n",
    "## Creating empty shapefile and layer\n",
    "fn = \"points.shp\"\n",
    "layername = \"anewlayer\"\n",
    "ds = drv.CreateDataSource(fn)\n",
    "spatialReference = osr.SpatialReference()\n",
    "spatialReference.ImportFromProj4('+proj=longlat +ellps=WGS84 +datum=WGS84 +no_defs')\n",
    "layer=ds.CreateLayer(layername, spatialReference, ogr.wkbPoint)\n",
    "\n",
    "## Adding points to the shapefile layer\n",
    "point1 = ogr.Geometry(ogr.wkbPoint)\n",
    "point2 = ogr.Geometry(ogr.wkbPoint)\n",
    "point1.SetPoint(0,5.283483,51.873347) \n",
    "point2.SetPoint(0,5.666002,51.987714)\n",
    "layerDefinition = layer.GetLayerDefn()\n",
    "feature1 = ogr.Feature(layerDefinition)\n",
    "feature2 = ogr.Feature(layerDefinition)\n",
    "feature1.SetGeometry(point1)\n",
    "feature2.SetGeometry(point2)\n",
    "layer.CreateFeature(feature1)\n",
    "layer.CreateFeature(feature2)\n",
    "ds.Destroy()\n",
    "\n",
    "## Adding layer to QGIS\n",
    "qgis.utils.iface.addVectorLayer(fn, layername, \"ogr\") \n",
    "<qgis._core.QgsVectorLayer object at 0x00000000192770D0>\n",
    "aLayer = qgis.utils.iface.activeLayer()\n",
    "\n",
    "## Plotting a map \n",
    "import matplotlib.pyplot as plt\n",
    "point1lon, point1lat = 51.873347, 5.283483\n",
    "point2lon, point2lat = 51.987714, 5.666002\n",
    "plt.plot([point1lon, point2lon], [point1lat, point2lat], color='blue', linewidth=2, marker='o')\n",
    "plt.show()"
   ]
  }
 ],
 "metadata": {
  "kernelspec": {
   "display_name": "Python 2",
   "language": "python",
   "name": "python2"
  },
  "language_info": {
   "codemirror_mode": {
    "name": "ipython",
    "version": 2
   },
   "file_extension": ".py",
   "mimetype": "text/x-python",
   "name": "python",
   "nbconvert_exporter": "python",
   "pygments_lexer": "ipython2",
   "version": "2.7.10"
  }
 },
 "nbformat": 4,
 "nbformat_minor": 2
}
